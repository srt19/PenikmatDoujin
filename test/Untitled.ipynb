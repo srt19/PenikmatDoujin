{
 "cells": [
  {
   "cell_type": "code",
   "execution_count": 4,
   "id": "c0ec13cb-0a07-470d-af59-3686133253a8",
   "metadata": {},
   "outputs": [],
   "source": [
    "import urllib3\n",
    "from bs4 import BeautifulSoup as bs\n",
    "http = urllib3.PoolManager()"
   ]
  },
  {
   "cell_type": "code",
   "execution_count": 5,
   "id": "1b1784ca-2dc3-47c4-9772-6074bf9adb29",
   "metadata": {},
   "outputs": [],
   "source": [
    "url = \"https://dojing.net/asosiasi-lingkungan/\"\n",
    "r = http.request('GET', url)"
   ]
  },
  {
   "cell_type": "code",
   "execution_count": 6,
   "id": "cc907dbb-2bc3-45b0-ac9e-216b4dbe2cbb",
   "metadata": {},
   "outputs": [],
   "source": [
    "sup = bs(r.data, 'html.parser')"
   ]
  },
  {
   "cell_type": "code",
   "execution_count": 20,
   "id": "c95826c6-02fb-4c74-b36a-945f92c6cfbb",
   "metadata": {},
   "outputs": [
    {
     "name": "stdout",
     "output_type": "stream",
     "text": [
      "<class 'str'>\n"
     ]
    }
   ],
   "source": [
    "for title in sup.find_all(class_='entry-title'):\n",
    "    ts = title.text\n",
    "    print(type(ts))"
   ]
  },
  {
   "cell_type": "code",
   "execution_count": 25,
   "id": "46513804-5102-4541-a886-ca4182140196",
   "metadata": {},
   "outputs": [
    {
     "name": "stdout",
     "output_type": "stream",
     "text": [
      "<class 'str'>\n",
      "Asosiasi Lingkungan\n"
     ]
    }
   ],
   "source": [
    "te = sup.find(class_='allc')\n",
    "for title in te.find_all('a'):\n",
    "    a = title.text\n",
    "    print(type(a))\n",
    "    print(a)"
   ]
  },
  {
   "cell_type": "code",
   "execution_count": null,
   "id": "1da1c4b0-1c1b-48ed-afbd-623ea5703379",
   "metadata": {},
   "outputs": [],
   "source": []
  }
 ],
 "metadata": {
  "kernelspec": {
   "display_name": "Python 3 (ipykernel)",
   "language": "python",
   "name": "python3"
  },
  "language_info": {
   "codemirror_mode": {
    "name": "ipython",
    "version": 3
   },
   "file_extension": ".py",
   "mimetype": "text/x-python",
   "name": "python",
   "nbconvert_exporter": "python",
   "pygments_lexer": "ipython3",
   "version": "3.10.8"
  }
 },
 "nbformat": 4,
 "nbformat_minor": 5
}
